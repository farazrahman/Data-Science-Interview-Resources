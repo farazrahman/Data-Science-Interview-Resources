{
  "nbformat": 4,
  "nbformat_minor": 0,
  "metadata": {
    "colab": {
      "provenance": [],
      "authorship_tag": "ABX9TyMRo9m8J+5K9RrP2mVOjP15",
      "include_colab_link": true
    },
    "kernelspec": {
      "name": "python3",
      "display_name": "Python 3"
    },
    "language_info": {
      "name": "python"
    }
  },
  "cells": [
    {
      "cell_type": "markdown",
      "metadata": {
        "id": "view-in-github",
        "colab_type": "text"
      },
      "source": [
        "<a href=\"https://colab.research.google.com/github/farazrahman/Data-Science-Interview-Resources/blob/master/Probability_and_Statistics_practice.ipynb\" target=\"_parent\"><img src=\"https://colab.research.google.com/assets/colab-badge.svg\" alt=\"Open In Colab\"/></a>"
      ]
    },
    {
      "cell_type": "code",
      "source": [
        "import numpy as np\n",
        "import math\n",
        "import scipy "
      ],
      "metadata": {
        "id": "5pn5tqAfkJyD"
      },
      "execution_count": 6,
      "outputs": []
    },
    {
      "cell_type": "code",
      "execution_count": 1,
      "metadata": {
        "colab": {
          "base_uri": "https://localhost:8080/"
        },
        "id": "OWOzqy5pZEmT",
        "outputId": "ff58547d-f313-4465-ac3f-2ccaeeede817"
      },
      "outputs": [
        {
          "output_type": "execute_result",
          "data": {
            "text/plain": [
              "0.00036982248520710064"
            ]
          },
          "metadata": {},
          "execution_count": 1
        }
      ],
      "source": [
        "# What is the probability of drawing ace of spades twice in a row?\n",
        "\n",
        "# P(ace of spades) * P(ace of spades)\n",
        "(1/52)*(1/52)"
      ]
    },
    {
      "cell_type": "code",
      "source": [
        "# What is the probability of drawing a card and drawing the card again after replacement?\n",
        "# P(drawing any card)*P(drawing the card again)\n",
        "(52/52)*(1/52)"
      ],
      "metadata": {
        "colab": {
          "base_uri": "https://localhost:8080/"
        },
        "id": "K7UU8BtEis-4",
        "outputId": "a847bbf9-9735-4be6-e3e2-7d4b53f744ad"
      },
      "execution_count": 3,
      "outputs": [
        {
          "output_type": "execute_result",
          "data": {
            "text/plain": [
              "0.019230769230769232"
            ]
          },
          "metadata": {},
          "execution_count": 3
        }
      ]
    },
    {
      "cell_type": "code",
      "source": [
        "# What is the Probability of throwing 3 heads in 5 coin tosses. Use the {n,k} method?\n",
        "n = 5\n",
        "k = 3\n",
        "numerator = math.factorial(n)/(math.factorial(k)*math.factorial(n-k))\n",
        "denominator = 2**n\n",
        "print(numerator)\n",
        "print(denominator)\n",
        "P = numerator/ denominator\n",
        "P"
      ],
      "metadata": {
        "colab": {
          "base_uri": "https://localhost:8080/"
        },
        "id": "qgWA3q2SjvvC",
        "outputId": "36edaf6f-0771-499d-ba62-b4792166f0f5"
      },
      "execution_count": 11,
      "outputs": [
        {
          "output_type": "stream",
          "name": "stdout",
          "text": [
            "10.0\n",
            "32\n"
          ]
        },
        {
          "output_type": "execute_result",
          "data": {
            "text/plain": [
              "0.3125"
            ]
          },
          "metadata": {},
          "execution_count": 11
        }
      ]
    }
  ]
}